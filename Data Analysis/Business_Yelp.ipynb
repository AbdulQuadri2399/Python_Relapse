{
 "cells": [
  {
   "cell_type": "code",
   "execution_count": 3,
   "id": "3f254498-1be9-4b59-9ca0-84671b7437d6",
   "metadata": {},
   "outputs": [],
   "source": [
    "import pandas as pd"
   ]
  },
  {
   "cell_type": "code",
   "execution_count": 6,
   "id": "b1ab51cd-950a-4ffc-bdce-b68cfbce79e1",
   "metadata": {},
   "outputs": [
    {
     "name": "stderr",
     "output_type": "stream",
     "text": [
      "C:\\Users\\Abdulqaadir\\anaconda3\\Lib\\site-packages\\openpyxl\\worksheet\\_read_only.py:79: UserWarning: Unknown extension is not supported and will be removed\n",
      "  for idx, row in parser.parse():\n"
     ]
    },
    {
     "data": {
      "text/html": [
       "<div>\n",
       "<style scoped>\n",
       "    .dataframe tbody tr th:only-of-type {\n",
       "        vertical-align: middle;\n",
       "    }\n",
       "\n",
       "    .dataframe tbody tr th {\n",
       "        vertical-align: top;\n",
       "    }\n",
       "\n",
       "    .dataframe thead th {\n",
       "        text-align: right;\n",
       "    }\n",
       "</style>\n",
       "<table border=\"1\" class=\"dataframe\">\n",
       "  <thead>\n",
       "    <tr style=\"text-align: right;\">\n",
       "      <th></th>\n",
       "      <th>name</th>\n",
       "      <th>category_0</th>\n",
       "      <th>category_1</th>\n",
       "      <th>take_out</th>\n",
       "      <th>review_count</th>\n",
       "      <th>stars</th>\n",
       "      <th>city_id</th>\n",
       "      <th>state_id</th>\n",
       "    </tr>\n",
       "  </thead>\n",
       "  <tbody>\n",
       "    <tr>\n",
       "      <th>0</th>\n",
       "      <td>China Sea Chinese Restaurant</td>\n",
       "      <td>Restaurants</td>\n",
       "      <td>Chinese</td>\n",
       "      <td>True</td>\n",
       "      <td>11</td>\n",
       "      <td>2.5</td>\n",
       "      <td>1</td>\n",
       "      <td>1</td>\n",
       "    </tr>\n",
       "    <tr>\n",
       "      <th>1</th>\n",
       "      <td>Discount Tire Center</td>\n",
       "      <td>Tires</td>\n",
       "      <td>Automotive</td>\n",
       "      <td>False</td>\n",
       "      <td>24</td>\n",
       "      <td>4.5</td>\n",
       "      <td>1</td>\n",
       "      <td>1</td>\n",
       "    </tr>\n",
       "    <tr>\n",
       "      <th>2</th>\n",
       "      <td>Frankfurters</td>\n",
       "      <td>Restaurants</td>\n",
       "      <td>Hot Dogs</td>\n",
       "      <td>True</td>\n",
       "      <td>3</td>\n",
       "      <td>4.5</td>\n",
       "      <td>1</td>\n",
       "      <td>1</td>\n",
       "    </tr>\n",
       "    <tr>\n",
       "      <th>3</th>\n",
       "      <td>Fred Dietz Floral</td>\n",
       "      <td>Shopping</td>\n",
       "      <td>Flowers &amp; Gifts</td>\n",
       "      <td>False</td>\n",
       "      <td>6</td>\n",
       "      <td>4.0</td>\n",
       "      <td>1</td>\n",
       "      <td>1</td>\n",
       "    </tr>\n",
       "    <tr>\n",
       "      <th>4</th>\n",
       "      <td>Kuhn's Market</td>\n",
       "      <td>Food</td>\n",
       "      <td>Grocery</td>\n",
       "      <td>False</td>\n",
       "      <td>8</td>\n",
       "      <td>3.5</td>\n",
       "      <td>1</td>\n",
       "      <td>1</td>\n",
       "    </tr>\n",
       "  </tbody>\n",
       "</table>\n",
       "</div>"
      ],
      "text/plain": [
       "                           name   category_0       category_1  take_out  \\\n",
       "0  China Sea Chinese Restaurant  Restaurants          Chinese      True   \n",
       "1          Discount Tire Center        Tires       Automotive     False   \n",
       "2                  Frankfurters  Restaurants         Hot Dogs      True   \n",
       "3             Fred Dietz Floral     Shopping  Flowers & Gifts     False   \n",
       "4                 Kuhn's Market         Food          Grocery     False   \n",
       "\n",
       "   review_count  stars  city_id  state_id  \n",
       "0            11    2.5        1         1  \n",
       "1            24    4.5        1         1  \n",
       "2             3    4.5        1         1  \n",
       "3             6    4.0        1         1  \n",
       "4             8    3.5        1         1  "
      ]
     },
     "execution_count": 6,
     "metadata": {},
     "output_type": "execute_result"
    }
   ],
   "source": [
    "xls = pd.ExcelFile(\"yelp.xlsx\")\n",
    "df = xls.parse(\"yelp_data\")\n",
    "df.head()"
   ]
  },
  {
   "cell_type": "code",
   "execution_count": 7,
   "id": "db79dfbd-dfc3-4a71-9667-6b99d0a9cd18",
   "metadata": {},
   "outputs": [
    {
     "data": {
      "text/plain": [
       "0                           China Sea Chinese Restaurant\n",
       "1                                   Discount Tire Center\n",
       "2                                           Frankfurters\n",
       "3                                      Fred Dietz Floral\n",
       "4                                          Kuhn's Market\n",
       "                             ...                        \n",
       "595    Republic Services of Southern Nevada Recycling...\n",
       "596                                         SA Recycling\n",
       "597                                      Jack In the Box\n",
       "598                                 Custom Hearth & Door\n",
       "599                                     A Sunrise Towing\n",
       "Name: name, Length: 600, dtype: object"
      ]
     },
     "execution_count": 7,
     "metadata": {},
     "output_type": "execute_result"
    }
   ],
   "source": [
    "df[\"name\"]"
   ]
  },
  {
   "cell_type": "code",
   "execution_count": 8,
   "id": "14a9b5c1-af7d-492c-acb6-c629530709ec",
   "metadata": {},
   "outputs": [],
   "source": [
    "atts = [\"name\", \"stars\"]"
   ]
  },
  {
   "cell_type": "code",
   "execution_count": 12,
   "id": "91df7a06-5022-4905-83ba-1706bc21a433",
   "metadata": {},
   "outputs": [
    {
     "data": {
      "text/html": [
       "<div>\n",
       "<style scoped>\n",
       "    .dataframe tbody tr th:only-of-type {\n",
       "        vertical-align: middle;\n",
       "    }\n",
       "\n",
       "    .dataframe tbody tr th {\n",
       "        vertical-align: top;\n",
       "    }\n",
       "\n",
       "    .dataframe thead th {\n",
       "        text-align: right;\n",
       "    }\n",
       "</style>\n",
       "<table border=\"1\" class=\"dataframe\">\n",
       "  <thead>\n",
       "    <tr style=\"text-align: right;\">\n",
       "      <th></th>\n",
       "      <th>name</th>\n",
       "      <th>stars</th>\n",
       "    </tr>\n",
       "  </thead>\n",
       "  <tbody>\n",
       "    <tr>\n",
       "      <th>0</th>\n",
       "      <td>China Sea Chinese Restaurant</td>\n",
       "      <td>2.5</td>\n",
       "    </tr>\n",
       "    <tr>\n",
       "      <th>1</th>\n",
       "      <td>Discount Tire Center</td>\n",
       "      <td>4.5</td>\n",
       "    </tr>\n",
       "    <tr>\n",
       "      <th>2</th>\n",
       "      <td>Frankfurters</td>\n",
       "      <td>4.5</td>\n",
       "    </tr>\n",
       "    <tr>\n",
       "      <th>3</th>\n",
       "      <td>Fred Dietz Floral</td>\n",
       "      <td>4.0</td>\n",
       "    </tr>\n",
       "  </tbody>\n",
       "</table>\n",
       "</div>"
      ],
      "text/plain": [
       "                           name  stars\n",
       "0  China Sea Chinese Restaurant    2.5\n",
       "1          Discount Tire Center    4.5\n",
       "2                  Frankfurters    4.5\n",
       "3             Fred Dietz Floral    4.0"
      ]
     },
     "execution_count": 12,
     "metadata": {},
     "output_type": "execute_result"
    }
   ],
   "source": [
    "df[atts].head(4)"
   ]
  },
  {
   "cell_type": "code",
   "execution_count": 13,
   "id": "8bf729f3-13b4-4baa-8205-e4fad3da5091",
   "metadata": {},
   "outputs": [
    {
     "data": {
      "text/plain": [
       "Index(['name', 'category_0', 'category_1', 'take_out', 'review_count', 'stars',\n",
       "       'city_id', 'state_id'],\n",
       "      dtype='object')"
      ]
     },
     "execution_count": 13,
     "metadata": {},
     "output_type": "execute_result"
    }
   ],
   "source": [
    "df.columns"
   ]
  },
  {
   "cell_type": "code",
   "execution_count": 15,
   "id": "88c512b4-1a22-4065-93c0-4f600eee1d1b",
   "metadata": {},
   "outputs": [
    {
     "data": {
      "text/plain": [
       "name             object\n",
       "category_0       object\n",
       "category_1       object\n",
       "take_out           bool\n",
       "review_count      int64\n",
       "stars           float64\n",
       "city_id           int64\n",
       "state_id          int64\n",
       "dtype: object"
      ]
     },
     "execution_count": 15,
     "metadata": {},
     "output_type": "execute_result"
    }
   ],
   "source": [
    "df.dtypes"
   ]
  },
  {
   "cell_type": "code",
   "execution_count": 18,
   "id": "66160cb0-ee6f-4de1-9943-8e50695b34b2",
   "metadata": {},
   "outputs": [
    {
     "data": {
      "text/plain": [
       "600"
      ]
     },
     "execution_count": 18,
     "metadata": {},
     "output_type": "execute_result"
    }
   ],
   "source": [
    "len(df[\"name\"])"
   ]
  },
  {
   "cell_type": "code",
   "execution_count": 17,
   "id": "81f2cd68-0833-45f6-9175-55c1f2f4b98f",
   "metadata": {},
   "outputs": [
    {
     "data": {
      "text/plain": [
       "<bound method DataFrame.count of                                                   name      category_0  \\\n",
       "0                         China Sea Chinese Restaurant     Restaurants   \n",
       "1                                 Discount Tire Center           Tires   \n",
       "2                                         Frankfurters     Restaurants   \n",
       "3                                    Fred Dietz Floral        Shopping   \n",
       "4                                        Kuhn's Market            Food   \n",
       "..                                                 ...             ...   \n",
       "595  Republic Services of Southern Nevada Recycling...  Local Services   \n",
       "596                                       SA Recycling  Local Services   \n",
       "597                                    Jack In the Box     Restaurants   \n",
       "598                               Custom Hearth & Door        Shopping   \n",
       "599                                   A Sunrise Towing      Automotive   \n",
       "\n",
       "                          category_1  take_out  review_count  stars  city_id  \\\n",
       "0                            Chinese      True            11    2.5        1   \n",
       "1                         Automotive     False            24    4.5        1   \n",
       "2                           Hot Dogs      True             3    4.5        1   \n",
       "3                    Flowers & Gifts     False             6    4.0        1   \n",
       "4                            Grocery     False             8    3.5        1   \n",
       "..                               ...       ...           ...    ...      ...   \n",
       "595                 Recycling Center     False             7    2.5       13   \n",
       "596                 Recycling Center     False             3    1.5       13   \n",
       "597                        Fast Food      True            12    3.0       13   \n",
       "598  Heating & Air Conditioning/HVAC     False             9    4.0       13   \n",
       "599                           Towing     False             4    1.0       13   \n",
       "\n",
       "     state_id  \n",
       "0           1  \n",
       "1           1  \n",
       "2           1  \n",
       "3           1  \n",
       "4           1  \n",
       "..        ...  \n",
       "595         2  \n",
       "596         2  \n",
       "597         2  \n",
       "598         2  \n",
       "599         2  \n",
       "\n",
       "[600 rows x 8 columns]>"
      ]
     },
     "execution_count": 17,
     "metadata": {},
     "output_type": "execute_result"
    }
   ],
   "source": [
    "df.count"
   ]
  },
  {
   "cell_type": "code",
   "execution_count": 19,
   "id": "6522ad3f-5f00-4c25-9c0d-4fcb26127ba5",
   "metadata": {},
   "outputs": [
    {
     "data": {
      "text/html": [
       "<div>\n",
       "<style scoped>\n",
       "    .dataframe tbody tr th:only-of-type {\n",
       "        vertical-align: middle;\n",
       "    }\n",
       "\n",
       "    .dataframe tbody tr th {\n",
       "        vertical-align: top;\n",
       "    }\n",
       "\n",
       "    .dataframe thead th {\n",
       "        text-align: right;\n",
       "    }\n",
       "</style>\n",
       "<table border=\"1\" class=\"dataframe\">\n",
       "  <thead>\n",
       "    <tr style=\"text-align: right;\">\n",
       "      <th></th>\n",
       "      <th>review_count</th>\n",
       "      <th>stars</th>\n",
       "      <th>city_id</th>\n",
       "      <th>state_id</th>\n",
       "    </tr>\n",
       "  </thead>\n",
       "  <tbody>\n",
       "    <tr>\n",
       "      <th>count</th>\n",
       "      <td>600.000000</td>\n",
       "      <td>600.000000</td>\n",
       "      <td>600.000000</td>\n",
       "      <td>600.000000</td>\n",
       "    </tr>\n",
       "    <tr>\n",
       "      <th>mean</th>\n",
       "      <td>33.771667</td>\n",
       "      <td>3.495000</td>\n",
       "      <td>9.193333</td>\n",
       "      <td>1.500000</td>\n",
       "    </tr>\n",
       "    <tr>\n",
       "      <th>std</th>\n",
       "      <td>86.901895</td>\n",
       "      <td>0.955596</td>\n",
       "      <td>2.997933</td>\n",
       "      <td>0.500417</td>\n",
       "    </tr>\n",
       "    <tr>\n",
       "      <th>min</th>\n",
       "      <td>3.000000</td>\n",
       "      <td>1.000000</td>\n",
       "      <td>1.000000</td>\n",
       "      <td>1.000000</td>\n",
       "    </tr>\n",
       "    <tr>\n",
       "      <th>25%</th>\n",
       "      <td>5.000000</td>\n",
       "      <td>3.000000</td>\n",
       "      <td>8.000000</td>\n",
       "      <td>1.000000</td>\n",
       "    </tr>\n",
       "    <tr>\n",
       "      <th>50%</th>\n",
       "      <td>10.000000</td>\n",
       "      <td>3.500000</td>\n",
       "      <td>10.500000</td>\n",
       "      <td>1.500000</td>\n",
       "    </tr>\n",
       "    <tr>\n",
       "      <th>75%</th>\n",
       "      <td>25.250000</td>\n",
       "      <td>4.000000</td>\n",
       "      <td>12.000000</td>\n",
       "      <td>2.000000</td>\n",
       "    </tr>\n",
       "    <tr>\n",
       "      <th>max</th>\n",
       "      <td>1305.000000</td>\n",
       "      <td>5.000000</td>\n",
       "      <td>13.000000</td>\n",
       "      <td>2.000000</td>\n",
       "    </tr>\n",
       "  </tbody>\n",
       "</table>\n",
       "</div>"
      ],
      "text/plain": [
       "       review_count       stars     city_id    state_id\n",
       "count    600.000000  600.000000  600.000000  600.000000\n",
       "mean      33.771667    3.495000    9.193333    1.500000\n",
       "std       86.901895    0.955596    2.997933    0.500417\n",
       "min        3.000000    1.000000    1.000000    1.000000\n",
       "25%        5.000000    3.000000    8.000000    1.000000\n",
       "50%       10.000000    3.500000   10.500000    1.500000\n",
       "75%       25.250000    4.000000   12.000000    2.000000\n",
       "max     1305.000000    5.000000   13.000000    2.000000"
      ]
     },
     "execution_count": 19,
     "metadata": {},
     "output_type": "execute_result"
    }
   ],
   "source": [
    "df.describe()"
   ]
  },
  {
   "cell_type": "code",
   "execution_count": 28,
   "id": "d50fc5fb-6ce0-459e-81fb-6e3c030a872d",
   "metadata": {},
   "outputs": [
    {
     "data": {
      "text/html": [
       "<div>\n",
       "<style scoped>\n",
       "    .dataframe tbody tr th:only-of-type {\n",
       "        vertical-align: middle;\n",
       "    }\n",
       "\n",
       "    .dataframe tbody tr th {\n",
       "        vertical-align: top;\n",
       "    }\n",
       "\n",
       "    .dataframe thead th {\n",
       "        text-align: right;\n",
       "    }\n",
       "</style>\n",
       "<table border=\"1\" class=\"dataframe\">\n",
       "  <thead>\n",
       "    <tr style=\"text-align: right;\">\n",
       "      <th></th>\n",
       "      <th>name</th>\n",
       "      <th>category_0</th>\n",
       "      <th>category_1</th>\n",
       "      <th>take_out</th>\n",
       "      <th>review_count</th>\n",
       "      <th>stars</th>\n",
       "      <th>city_id</th>\n",
       "      <th>state_id</th>\n",
       "    </tr>\n",
       "  </thead>\n",
       "  <tbody>\n",
       "    <tr>\n",
       "      <th>1</th>\n",
       "      <td>Discount Tire Center</td>\n",
       "      <td>Tires</td>\n",
       "      <td>Automotive</td>\n",
       "      <td>False</td>\n",
       "      <td>24</td>\n",
       "      <td>4.5</td>\n",
       "      <td>1</td>\n",
       "      <td>1</td>\n",
       "    </tr>\n",
       "    <tr>\n",
       "      <th>2</th>\n",
       "      <td>Frankfurters</td>\n",
       "      <td>Restaurants</td>\n",
       "      <td>Hot Dogs</td>\n",
       "      <td>True</td>\n",
       "      <td>3</td>\n",
       "      <td>4.5</td>\n",
       "      <td>1</td>\n",
       "      <td>1</td>\n",
       "    </tr>\n",
       "    <tr>\n",
       "      <th>3</th>\n",
       "      <td>Fred Dietz Floral</td>\n",
       "      <td>Shopping</td>\n",
       "      <td>Flowers &amp; Gifts</td>\n",
       "      <td>False</td>\n",
       "      <td>6</td>\n",
       "      <td>4.0</td>\n",
       "      <td>1</td>\n",
       "      <td>1</td>\n",
       "    </tr>\n",
       "  </tbody>\n",
       "</table>\n",
       "</div>"
      ],
      "text/plain": [
       "                   name   category_0       category_1  take_out  review_count  \\\n",
       "1  Discount Tire Center        Tires       Automotive     False            24   \n",
       "2          Frankfurters  Restaurants         Hot Dogs      True             3   \n",
       "3     Fred Dietz Floral     Shopping  Flowers & Gifts     False             6   \n",
       "\n",
       "   stars  city_id  state_id  \n",
       "1    4.5        1         1  \n",
       "2    4.5        1         1  \n",
       "3    4.0        1         1  "
      ]
     },
     "execution_count": 28,
     "metadata": {},
     "output_type": "execute_result"
    }
   ],
   "source": [
    "df[1:4]"
   ]
  },
  {
   "cell_type": "code",
   "execution_count": 29,
   "id": "2c08763d-8f49-4865-9bbf-67f5314d8fc7",
   "metadata": {},
   "outputs": [
    {
     "name": "stderr",
     "output_type": "stream",
     "text": [
      "C:\\Users\\Abdulqaadir\\anaconda3\\Lib\\site-packages\\openpyxl\\worksheet\\_read_only.py:79: UserWarning: Unknown extension is not supported and will be removed\n",
      "  for idx, row in parser.parse():\n"
     ]
    }
   ],
   "source": [
    "cities = xls.parse(\"cities\")"
   ]
  },
  {
   "cell_type": "code",
   "execution_count": 31,
   "id": "369c7bcc-33aa-48a0-a25b-3d2a5426818b",
   "metadata": {},
   "outputs": [
    {
     "data": {
      "text/html": [
       "<div>\n",
       "<style scoped>\n",
       "    .dataframe tbody tr th:only-of-type {\n",
       "        vertical-align: middle;\n",
       "    }\n",
       "\n",
       "    .dataframe tbody tr th {\n",
       "        vertical-align: top;\n",
       "    }\n",
       "\n",
       "    .dataframe thead th {\n",
       "        text-align: right;\n",
       "    }\n",
       "</style>\n",
       "<table border=\"1\" class=\"dataframe\">\n",
       "  <thead>\n",
       "    <tr style=\"text-align: right;\">\n",
       "      <th></th>\n",
       "      <th>id</th>\n",
       "      <th>city</th>\n",
       "    </tr>\n",
       "  </thead>\n",
       "  <tbody>\n",
       "    <tr>\n",
       "      <th>0</th>\n",
       "      <td>1</td>\n",
       "      <td>Bellevue</td>\n",
       "    </tr>\n",
       "    <tr>\n",
       "      <th>1</th>\n",
       "      <td>2</td>\n",
       "      <td>Braddock</td>\n",
       "    </tr>\n",
       "    <tr>\n",
       "      <th>2</th>\n",
       "      <td>3</td>\n",
       "      <td>Carnegie</td>\n",
       "    </tr>\n",
       "    <tr>\n",
       "      <th>3</th>\n",
       "      <td>4</td>\n",
       "      <td>Homestead</td>\n",
       "    </tr>\n",
       "    <tr>\n",
       "      <th>4</th>\n",
       "      <td>5</td>\n",
       "      <td>Mc Kees Rocks</td>\n",
       "    </tr>\n",
       "  </tbody>\n",
       "</table>\n",
       "</div>"
      ],
      "text/plain": [
       "   id           city\n",
       "0   1       Bellevue\n",
       "1   2       Braddock\n",
       "2   3       Carnegie\n",
       "3   4      Homestead\n",
       "4   5  Mc Kees Rocks"
      ]
     },
     "execution_count": 31,
     "metadata": {},
     "output_type": "execute_result"
    }
   ],
   "source": [
    "cities.head()"
   ]
  },
  {
   "cell_type": "code",
   "execution_count": 30,
   "id": "ae5f8f85-8465-4a8e-b75b-627899c167d8",
   "metadata": {},
   "outputs": [
    {
     "name": "stderr",
     "output_type": "stream",
     "text": [
      "C:\\Users\\Abdulqaadir\\anaconda3\\Lib\\site-packages\\openpyxl\\worksheet\\_read_only.py:79: UserWarning: Unknown extension is not supported and will be removed\n",
      "  for idx, row in parser.parse():\n"
     ]
    }
   ],
   "source": [
    "states = xls.parse(\"states\")"
   ]
  },
  {
   "cell_type": "code",
   "execution_count": 32,
   "id": "52b32dac-48d8-4d82-8987-7f291b44762e",
   "metadata": {},
   "outputs": [
    {
     "data": {
      "text/html": [
       "<div>\n",
       "<style scoped>\n",
       "    .dataframe tbody tr th:only-of-type {\n",
       "        vertical-align: middle;\n",
       "    }\n",
       "\n",
       "    .dataframe tbody tr th {\n",
       "        vertical-align: top;\n",
       "    }\n",
       "\n",
       "    .dataframe thead th {\n",
       "        text-align: right;\n",
       "    }\n",
       "</style>\n",
       "<table border=\"1\" class=\"dataframe\">\n",
       "  <thead>\n",
       "    <tr style=\"text-align: right;\">\n",
       "      <th></th>\n",
       "      <th>id</th>\n",
       "      <th>state</th>\n",
       "    </tr>\n",
       "  </thead>\n",
       "  <tbody>\n",
       "    <tr>\n",
       "      <th>0</th>\n",
       "      <td>1</td>\n",
       "      <td>PA</td>\n",
       "    </tr>\n",
       "    <tr>\n",
       "      <th>1</th>\n",
       "      <td>2</td>\n",
       "      <td>NV</td>\n",
       "    </tr>\n",
       "  </tbody>\n",
       "</table>\n",
       "</div>"
      ],
      "text/plain": [
       "   id state\n",
       "0   1    PA\n",
       "1   2    NV"
      ]
     },
     "execution_count": 32,
     "metadata": {},
     "output_type": "execute_result"
    }
   ],
   "source": [
    "states.head()"
   ]
  },
  {
   "cell_type": "code",
   "execution_count": 36,
   "id": "6eecba80-2349-46f9-95b9-568f8f1a10cf",
   "metadata": {},
   "outputs": [],
   "source": [
    "df = pd.merge(left = df, right = cities, left_on = \"city_id\", right_on = \"id\", how = \"inner\")"
   ]
  },
  {
   "cell_type": "code",
   "execution_count": 37,
   "id": "0e6ade8e-21ab-4f04-9dfd-c33f087d5de0",
   "metadata": {},
   "outputs": [
    {
     "data": {
      "text/html": [
       "<div>\n",
       "<style scoped>\n",
       "    .dataframe tbody tr th:only-of-type {\n",
       "        vertical-align: middle;\n",
       "    }\n",
       "\n",
       "    .dataframe tbody tr th {\n",
       "        vertical-align: top;\n",
       "    }\n",
       "\n",
       "    .dataframe thead th {\n",
       "        text-align: right;\n",
       "    }\n",
       "</style>\n",
       "<table border=\"1\" class=\"dataframe\">\n",
       "  <thead>\n",
       "    <tr style=\"text-align: right;\">\n",
       "      <th></th>\n",
       "      <th>name</th>\n",
       "      <th>category_0</th>\n",
       "      <th>category_1</th>\n",
       "      <th>take_out</th>\n",
       "      <th>review_count</th>\n",
       "      <th>stars</th>\n",
       "      <th>city_id</th>\n",
       "      <th>state_id</th>\n",
       "      <th>id</th>\n",
       "      <th>city</th>\n",
       "    </tr>\n",
       "  </thead>\n",
       "  <tbody>\n",
       "    <tr>\n",
       "      <th>0</th>\n",
       "      <td>China Sea Chinese Restaurant</td>\n",
       "      <td>Restaurants</td>\n",
       "      <td>Chinese</td>\n",
       "      <td>True</td>\n",
       "      <td>11</td>\n",
       "      <td>2.5</td>\n",
       "      <td>1</td>\n",
       "      <td>1</td>\n",
       "      <td>1</td>\n",
       "      <td>Bellevue</td>\n",
       "    </tr>\n",
       "    <tr>\n",
       "      <th>1</th>\n",
       "      <td>Discount Tire Center</td>\n",
       "      <td>Tires</td>\n",
       "      <td>Automotive</td>\n",
       "      <td>False</td>\n",
       "      <td>24</td>\n",
       "      <td>4.5</td>\n",
       "      <td>1</td>\n",
       "      <td>1</td>\n",
       "      <td>1</td>\n",
       "      <td>Bellevue</td>\n",
       "    </tr>\n",
       "    <tr>\n",
       "      <th>2</th>\n",
       "      <td>Frankfurters</td>\n",
       "      <td>Restaurants</td>\n",
       "      <td>Hot Dogs</td>\n",
       "      <td>True</td>\n",
       "      <td>3</td>\n",
       "      <td>4.5</td>\n",
       "      <td>1</td>\n",
       "      <td>1</td>\n",
       "      <td>1</td>\n",
       "      <td>Bellevue</td>\n",
       "    </tr>\n",
       "    <tr>\n",
       "      <th>3</th>\n",
       "      <td>Fred Dietz Floral</td>\n",
       "      <td>Shopping</td>\n",
       "      <td>Flowers &amp; Gifts</td>\n",
       "      <td>False</td>\n",
       "      <td>6</td>\n",
       "      <td>4.0</td>\n",
       "      <td>1</td>\n",
       "      <td>1</td>\n",
       "      <td>1</td>\n",
       "      <td>Bellevue</td>\n",
       "    </tr>\n",
       "    <tr>\n",
       "      <th>4</th>\n",
       "      <td>Kuhn's Market</td>\n",
       "      <td>Food</td>\n",
       "      <td>Grocery</td>\n",
       "      <td>False</td>\n",
       "      <td>8</td>\n",
       "      <td>3.5</td>\n",
       "      <td>1</td>\n",
       "      <td>1</td>\n",
       "      <td>1</td>\n",
       "      <td>Bellevue</td>\n",
       "    </tr>\n",
       "  </tbody>\n",
       "</table>\n",
       "</div>"
      ],
      "text/plain": [
       "                           name   category_0       category_1  take_out  \\\n",
       "0  China Sea Chinese Restaurant  Restaurants          Chinese      True   \n",
       "1          Discount Tire Center        Tires       Automotive     False   \n",
       "2                  Frankfurters  Restaurants         Hot Dogs      True   \n",
       "3             Fred Dietz Floral     Shopping  Flowers & Gifts     False   \n",
       "4                 Kuhn's Market         Food          Grocery     False   \n",
       "\n",
       "   review_count  stars  city_id  state_id  id      city  \n",
       "0            11    2.5        1         1   1  Bellevue  \n",
       "1            24    4.5        1         1   1  Bellevue  \n",
       "2             3    4.5        1         1   1  Bellevue  \n",
       "3             6    4.0        1         1   1  Bellevue  \n",
       "4             8    3.5        1         1   1  Bellevue  "
      ]
     },
     "execution_count": 37,
     "metadata": {},
     "output_type": "execute_result"
    }
   ],
   "source": [
    "df.head()"
   ]
  },
  {
   "cell_type": "code",
   "execution_count": 38,
   "id": "58167bd9-57f9-4a18-a520-5172953c9017",
   "metadata": {},
   "outputs": [],
   "source": [
    "df = pd.merge(left = df, right = states, how = \"inner\", left_on = \"state_id\", right_on = \"id\")"
   ]
  },
  {
   "cell_type": "code",
   "execution_count": 39,
   "id": "079e756f-87f3-479f-9dfc-cea7a4dd8d05",
   "metadata": {},
   "outputs": [
    {
     "data": {
      "text/html": [
       "<div>\n",
       "<style scoped>\n",
       "    .dataframe tbody tr th:only-of-type {\n",
       "        vertical-align: middle;\n",
       "    }\n",
       "\n",
       "    .dataframe tbody tr th {\n",
       "        vertical-align: top;\n",
       "    }\n",
       "\n",
       "    .dataframe thead th {\n",
       "        text-align: right;\n",
       "    }\n",
       "</style>\n",
       "<table border=\"1\" class=\"dataframe\">\n",
       "  <thead>\n",
       "    <tr style=\"text-align: right;\">\n",
       "      <th></th>\n",
       "      <th>name</th>\n",
       "      <th>category_0</th>\n",
       "      <th>category_1</th>\n",
       "      <th>take_out</th>\n",
       "      <th>review_count</th>\n",
       "      <th>stars</th>\n",
       "      <th>city_id</th>\n",
       "      <th>state_id</th>\n",
       "      <th>id_x</th>\n",
       "      <th>city</th>\n",
       "      <th>id_y</th>\n",
       "      <th>state</th>\n",
       "    </tr>\n",
       "  </thead>\n",
       "  <tbody>\n",
       "    <tr>\n",
       "      <th>0</th>\n",
       "      <td>China Sea Chinese Restaurant</td>\n",
       "      <td>Restaurants</td>\n",
       "      <td>Chinese</td>\n",
       "      <td>True</td>\n",
       "      <td>11</td>\n",
       "      <td>2.5</td>\n",
       "      <td>1</td>\n",
       "      <td>1</td>\n",
       "      <td>1</td>\n",
       "      <td>Bellevue</td>\n",
       "      <td>1</td>\n",
       "      <td>PA</td>\n",
       "    </tr>\n",
       "    <tr>\n",
       "      <th>1</th>\n",
       "      <td>Discount Tire Center</td>\n",
       "      <td>Tires</td>\n",
       "      <td>Automotive</td>\n",
       "      <td>False</td>\n",
       "      <td>24</td>\n",
       "      <td>4.5</td>\n",
       "      <td>1</td>\n",
       "      <td>1</td>\n",
       "      <td>1</td>\n",
       "      <td>Bellevue</td>\n",
       "      <td>1</td>\n",
       "      <td>PA</td>\n",
       "    </tr>\n",
       "    <tr>\n",
       "      <th>2</th>\n",
       "      <td>Frankfurters</td>\n",
       "      <td>Restaurants</td>\n",
       "      <td>Hot Dogs</td>\n",
       "      <td>True</td>\n",
       "      <td>3</td>\n",
       "      <td>4.5</td>\n",
       "      <td>1</td>\n",
       "      <td>1</td>\n",
       "      <td>1</td>\n",
       "      <td>Bellevue</td>\n",
       "      <td>1</td>\n",
       "      <td>PA</td>\n",
       "    </tr>\n",
       "    <tr>\n",
       "      <th>3</th>\n",
       "      <td>Fred Dietz Floral</td>\n",
       "      <td>Shopping</td>\n",
       "      <td>Flowers &amp; Gifts</td>\n",
       "      <td>False</td>\n",
       "      <td>6</td>\n",
       "      <td>4.0</td>\n",
       "      <td>1</td>\n",
       "      <td>1</td>\n",
       "      <td>1</td>\n",
       "      <td>Bellevue</td>\n",
       "      <td>1</td>\n",
       "      <td>PA</td>\n",
       "    </tr>\n",
       "    <tr>\n",
       "      <th>4</th>\n",
       "      <td>Kuhn's Market</td>\n",
       "      <td>Food</td>\n",
       "      <td>Grocery</td>\n",
       "      <td>False</td>\n",
       "      <td>8</td>\n",
       "      <td>3.5</td>\n",
       "      <td>1</td>\n",
       "      <td>1</td>\n",
       "      <td>1</td>\n",
       "      <td>Bellevue</td>\n",
       "      <td>1</td>\n",
       "      <td>PA</td>\n",
       "    </tr>\n",
       "  </tbody>\n",
       "</table>\n",
       "</div>"
      ],
      "text/plain": [
       "                           name   category_0       category_1  take_out  \\\n",
       "0  China Sea Chinese Restaurant  Restaurants          Chinese      True   \n",
       "1          Discount Tire Center        Tires       Automotive     False   \n",
       "2                  Frankfurters  Restaurants         Hot Dogs      True   \n",
       "3             Fred Dietz Floral     Shopping  Flowers & Gifts     False   \n",
       "4                 Kuhn's Market         Food          Grocery     False   \n",
       "\n",
       "   review_count  stars  city_id  state_id  id_x      city  id_y state  \n",
       "0            11    2.5        1         1     1  Bellevue     1    PA  \n",
       "1            24    4.5        1         1     1  Bellevue     1    PA  \n",
       "2             3    4.5        1         1     1  Bellevue     1    PA  \n",
       "3             6    4.0        1         1     1  Bellevue     1    PA  \n",
       "4             8    3.5        1         1     1  Bellevue     1    PA  "
      ]
     },
     "execution_count": 39,
     "metadata": {},
     "output_type": "execute_result"
    }
   ],
   "source": [
    "df.head()"
   ]
  },
  {
   "cell_type": "code",
   "execution_count": 40,
   "id": "5c8439c6-fa8f-46f6-932a-4461f946088c",
   "metadata": {},
   "outputs": [],
   "source": [
    "del df[\"id_x\"]\n",
    "del df[\"id_y\"]"
   ]
  },
  {
   "cell_type": "code",
   "execution_count": 42,
   "id": "436c27ad-1198-49b4-be21-c4a742edecb0",
   "metadata": {},
   "outputs": [
    {
     "data": {
      "text/plain": [
       "Index(['name', 'category_0', 'category_1', 'take_out', 'review_count', 'stars',\n",
       "       'city_id', 'state_id', 'city', 'state'],\n",
       "      dtype='object')"
      ]
     },
     "execution_count": 42,
     "metadata": {},
     "output_type": "execute_result"
    }
   ],
   "source": [
    "df.columns"
   ]
  },
  {
   "cell_type": "code",
   "execution_count": 43,
   "id": "2ff81567-07ba-4d0b-94be-2a3bff13d0e2",
   "metadata": {},
   "outputs": [],
   "source": [
    "#Bars in Carnegie\n",
    "#Bars and Restaurents in Carnegie (city)"
   ]
  },
  {
   "cell_type": "code",
   "execution_count": 44,
   "id": "986869af-5cc4-4c6f-aeea-32fe3d566d3e",
   "metadata": {},
   "outputs": [],
   "source": [
    "cat_0_bars = df[\"category_0\"] == \"Bars\"\n",
    "cat_1_bars = df[\"category_1\"] == \"Bars\"\n",
    "city_carnegie = df[\"city\"] == \"Carnegie\""
   ]
  },
  {
   "cell_type": "code",
   "execution_count": 45,
   "id": "f8802906-f927-4017-a92b-6d787294e90a",
   "metadata": {},
   "outputs": [
    {
     "data": {
      "text/html": [
       "<div>\n",
       "<style scoped>\n",
       "    .dataframe tbody tr th:only-of-type {\n",
       "        vertical-align: middle;\n",
       "    }\n",
       "\n",
       "    .dataframe tbody tr th {\n",
       "        vertical-align: top;\n",
       "    }\n",
       "\n",
       "    .dataframe thead th {\n",
       "        text-align: right;\n",
       "    }\n",
       "</style>\n",
       "<table border=\"1\" class=\"dataframe\">\n",
       "  <thead>\n",
       "    <tr style=\"text-align: right;\">\n",
       "      <th></th>\n",
       "      <th>name</th>\n",
       "      <th>category_0</th>\n",
       "      <th>category_1</th>\n",
       "      <th>take_out</th>\n",
       "      <th>review_count</th>\n",
       "      <th>stars</th>\n",
       "      <th>city_id</th>\n",
       "      <th>state_id</th>\n",
       "      <th>city</th>\n",
       "      <th>state</th>\n",
       "    </tr>\n",
       "  </thead>\n",
       "  <tbody>\n",
       "    <tr>\n",
       "      <th>15</th>\n",
       "      <td>Alexion's Bar &amp; Grill</td>\n",
       "      <td>Bars</td>\n",
       "      <td>American (Traditional)</td>\n",
       "      <td>True</td>\n",
       "      <td>23</td>\n",
       "      <td>4.0</td>\n",
       "      <td>3</td>\n",
       "      <td>1</td>\n",
       "      <td>Carnegie</td>\n",
       "      <td>PA</td>\n",
       "    </tr>\n",
       "    <tr>\n",
       "      <th>32</th>\n",
       "      <td>Rocky's Lounge</td>\n",
       "      <td>Bars</td>\n",
       "      <td>American (Traditional)</td>\n",
       "      <td>True</td>\n",
       "      <td>10</td>\n",
       "      <td>4.0</td>\n",
       "      <td>3</td>\n",
       "      <td>1</td>\n",
       "      <td>Carnegie</td>\n",
       "      <td>PA</td>\n",
       "    </tr>\n",
       "  </tbody>\n",
       "</table>\n",
       "</div>"
      ],
      "text/plain": [
       "                     name category_0              category_1  take_out  \\\n",
       "15  Alexion's Bar & Grill       Bars  American (Traditional)      True   \n",
       "32         Rocky's Lounge       Bars  American (Traditional)      True   \n",
       "\n",
       "    review_count  stars  city_id  state_id      city state  \n",
       "15            23    4.0        3         1  Carnegie    PA  \n",
       "32            10    4.0        3         1  Carnegie    PA  "
      ]
     },
     "execution_count": 45,
     "metadata": {},
     "output_type": "execute_result"
    }
   ],
   "source": [
    "df[(cat_0_bars | cat_1_bars) & city_carnegie]"
   ]
  },
  {
   "cell_type": "code",
   "execution_count": 46,
   "id": "37f5bc17-c92c-4ba1-b5a6-9b46d5b58125",
   "metadata": {},
   "outputs": [],
   "source": [
    "cat0_bars_rests = df[\"category_0\"].isin([\"Bars\", \"Restaurants\"])\n",
    "cat1_bars_rests = df[\"category_1\"].isin([\"Bars\", \"Restaurants\"])\n",
    "city_carnegie = df[\"city\"].isin([\"Carnegie\"])"
   ]
  },
  {
   "cell_type": "code",
   "execution_count": 47,
   "id": "f6d55d2d-77db-4e62-8caa-ae8da26ca5c8",
   "metadata": {},
   "outputs": [
    {
     "data": {
      "text/html": [
       "<div>\n",
       "<style scoped>\n",
       "    .dataframe tbody tr th:only-of-type {\n",
       "        vertical-align: middle;\n",
       "    }\n",
       "\n",
       "    .dataframe tbody tr th {\n",
       "        vertical-align: top;\n",
       "    }\n",
       "\n",
       "    .dataframe thead th {\n",
       "        text-align: right;\n",
       "    }\n",
       "</style>\n",
       "<table border=\"1\" class=\"dataframe\">\n",
       "  <thead>\n",
       "    <tr style=\"text-align: right;\">\n",
       "      <th></th>\n",
       "      <th>name</th>\n",
       "      <th>category_0</th>\n",
       "      <th>category_1</th>\n",
       "      <th>take_out</th>\n",
       "      <th>review_count</th>\n",
       "      <th>stars</th>\n",
       "      <th>city_id</th>\n",
       "      <th>state_id</th>\n",
       "      <th>city</th>\n",
       "      <th>state</th>\n",
       "    </tr>\n",
       "  </thead>\n",
       "  <tbody>\n",
       "    <tr>\n",
       "      <th>15</th>\n",
       "      <td>Alexion's Bar &amp; Grill</td>\n",
       "      <td>Bars</td>\n",
       "      <td>American (Traditional)</td>\n",
       "      <td>True</td>\n",
       "      <td>23</td>\n",
       "      <td>4.0</td>\n",
       "      <td>3</td>\n",
       "      <td>1</td>\n",
       "      <td>Carnegie</td>\n",
       "      <td>PA</td>\n",
       "    </tr>\n",
       "    <tr>\n",
       "      <th>18</th>\n",
       "      <td>Barb's Country Junction Cafe</td>\n",
       "      <td>Restaurants</td>\n",
       "      <td>Cafes</td>\n",
       "      <td>True</td>\n",
       "      <td>9</td>\n",
       "      <td>4.0</td>\n",
       "      <td>3</td>\n",
       "      <td>1</td>\n",
       "      <td>Carnegie</td>\n",
       "      <td>PA</td>\n",
       "    </tr>\n",
       "    <tr>\n",
       "      <th>20</th>\n",
       "      <td>Don Don Chinese Restaurant</td>\n",
       "      <td>Restaurants</td>\n",
       "      <td>Chinese</td>\n",
       "      <td>True</td>\n",
       "      <td>10</td>\n",
       "      <td>2.5</td>\n",
       "      <td>3</td>\n",
       "      <td>1</td>\n",
       "      <td>Carnegie</td>\n",
       "      <td>PA</td>\n",
       "    </tr>\n",
       "    <tr>\n",
       "      <th>29</th>\n",
       "      <td>Papa J's</td>\n",
       "      <td>Restaurants</td>\n",
       "      <td>Italian</td>\n",
       "      <td>True</td>\n",
       "      <td>81</td>\n",
       "      <td>3.5</td>\n",
       "      <td>3</td>\n",
       "      <td>1</td>\n",
       "      <td>Carnegie</td>\n",
       "      <td>PA</td>\n",
       "    </tr>\n",
       "    <tr>\n",
       "      <th>30</th>\n",
       "      <td>Porto Fino Pizzaria &amp; Gyro</td>\n",
       "      <td>Restaurants</td>\n",
       "      <td>Pizza</td>\n",
       "      <td>False</td>\n",
       "      <td>4</td>\n",
       "      <td>2.5</td>\n",
       "      <td>3</td>\n",
       "      <td>1</td>\n",
       "      <td>Carnegie</td>\n",
       "      <td>PA</td>\n",
       "    </tr>\n",
       "    <tr>\n",
       "      <th>32</th>\n",
       "      <td>Rocky's Lounge</td>\n",
       "      <td>Bars</td>\n",
       "      <td>American (Traditional)</td>\n",
       "      <td>True</td>\n",
       "      <td>10</td>\n",
       "      <td>4.0</td>\n",
       "      <td>3</td>\n",
       "      <td>1</td>\n",
       "      <td>Carnegie</td>\n",
       "      <td>PA</td>\n",
       "    </tr>\n",
       "  </tbody>\n",
       "</table>\n",
       "</div>"
      ],
      "text/plain": [
       "                            name   category_0              category_1  \\\n",
       "15         Alexion's Bar & Grill         Bars  American (Traditional)   \n",
       "18  Barb's Country Junction Cafe  Restaurants                   Cafes   \n",
       "20    Don Don Chinese Restaurant  Restaurants                 Chinese   \n",
       "29                      Papa J's  Restaurants                 Italian   \n",
       "30    Porto Fino Pizzaria & Gyro  Restaurants                   Pizza   \n",
       "32                Rocky's Lounge         Bars  American (Traditional)   \n",
       "\n",
       "    take_out  review_count  stars  city_id  state_id      city state  \n",
       "15      True            23    4.0        3         1  Carnegie    PA  \n",
       "18      True             9    4.0        3         1  Carnegie    PA  \n",
       "20      True            10    2.5        3         1  Carnegie    PA  \n",
       "29      True            81    3.5        3         1  Carnegie    PA  \n",
       "30     False             4    2.5        3         1  Carnegie    PA  \n",
       "32      True            10    4.0        3         1  Carnegie    PA  "
      ]
     },
     "execution_count": 47,
     "metadata": {},
     "output_type": "execute_result"
    }
   ],
   "source": [
    "df[(cat0_bars_rests | cat1_bars_rests) & city_carnegie]"
   ]
  },
  {
   "cell_type": "code",
   "execution_count": 51,
   "id": "5eb8de6a-7728-4b4f-bd6b-78275c3770ad",
   "metadata": {},
   "outputs": [],
   "source": [
    "cat_0_db = df[\"category_0\"] == \"Dive Bars\"\n",
    "#'[po\n",
    "cat_1_db = df[\"category_1\"] == \"Dive Bars\""
   ]
  },
  {
   "cell_type": "code",
   "execution_count": 54,
   "id": "403c9c2c-7dbc-4641-a35e-664b123b3430",
   "metadata": {},
   "outputs": [],
   "source": [
    "stars_gt_3 = df[\"stars\"] >= 4.0"
   ]
  },
  {
   "cell_type": "code",
   "execution_count": 69,
   "id": "81ab6769-292a-410c-90c8-d3963b2ac55e",
   "metadata": {},
   "outputs": [],
   "source": [
    "df_filtered = df[(cat_0_db|cat_1_db) & stars_gt_3]"
   ]
  },
  {
   "cell_type": "code",
   "execution_count": 70,
   "id": "31421ac2-f5d5-4c38-a8b6-aae19beefdf6",
   "metadata": {},
   "outputs": [
    {
     "data": {
      "text/plain": [
       "name            Huntridge Tavern\n",
       "category_0             Dive Bars\n",
       "category_1                  Bars\n",
       "take_out                   False\n",
       "review_count                  50\n",
       "stars                        4.0\n",
       "city_id                       12\n",
       "state_id                       2\n",
       "city                   Las Vegas\n",
       "state                         NV\n",
       "Name: 451, dtype: object"
      ]
     },
     "execution_count": 70,
     "metadata": {},
     "output_type": "execute_result"
    }
   ],
   "source": [
    "import random\n",
    "rand_ind = random.randint(0, len(df_filtered)-1)\n",
    "df_filtered.iloc[rand_ind]"
   ]
  },
  {
   "cell_type": "code",
   "execution_count": 71,
   "id": "839c6515-c408-46b4-9608-578030ba78f3",
   "metadata": {},
   "outputs": [
    {
     "data": {
      "text/plain": [
       "array(['Bellevue', 'Braddock', 'Carnegie', 'Homestead', 'Mc Kees Rocks',\n",
       "       'Mount Lebanon', 'Munhall', 'Pittsburgh', 'West Homestead',\n",
       "       'West Mifflin', 'Henderson', 'Las Vegas', 'North Las Vegas'],\n",
       "      dtype=object)"
      ]
     },
     "execution_count": 71,
     "metadata": {},
     "output_type": "execute_result"
    }
   ],
   "source": [
    "df[\"city\"].unique()"
   ]
  },
  {
   "cell_type": "code",
   "execution_count": 72,
   "id": "0544da42-fe93-4bde-97c8-d6a2ec2e10ce",
   "metadata": {},
   "outputs": [
    {
     "data": {
      "text/plain": [
       "13"
      ]
     },
     "execution_count": 72,
     "metadata": {},
     "output_type": "execute_result"
    }
   ],
   "source": [
    "df[\"city\"].nunique()"
   ]
  },
  {
   "cell_type": "code",
   "execution_count": 81,
   "id": "8d5905a1-f470-4b9f-a31f-8652d44f1637",
   "metadata": {},
   "outputs": [
    {
     "data": {
      "text/plain": [
       "city\n",
       "Pittsburgh         193\n",
       "Las Vegas          133\n",
       "Henderson          130\n",
       "Homestead           41\n",
       "North Las Vegas     37\n",
       "Carnegie            22\n",
       "Bellevue            12\n",
       "Mc Kees Rocks       10\n",
       "West Mifflin         9\n",
       "Mount Lebanon        4\n",
       "Munhall              4\n",
       "West Homestead       3\n",
       "Braddock             2\n",
       "Name: count, dtype: int64"
      ]
     },
     "execution_count": 81,
     "metadata": {},
     "output_type": "execute_result"
    }
   ],
   "source": [
    "df[\"city\"].value_counts()"
   ]
  },
  {
   "cell_type": "code",
   "execution_count": 82,
   "id": "a3913df9-49ba-410c-985b-4fb15fc628b2",
   "metadata": {},
   "outputs": [
    {
     "data": {
      "text/html": [
       "<div>\n",
       "<style scoped>\n",
       "    .dataframe tbody tr th:only-of-type {\n",
       "        vertical-align: middle;\n",
       "    }\n",
       "\n",
       "    .dataframe tbody tr th {\n",
       "        vertical-align: top;\n",
       "    }\n",
       "\n",
       "    .dataframe thead th {\n",
       "        text-align: right;\n",
       "    }\n",
       "</style>\n",
       "<table border=\"1\" class=\"dataframe\">\n",
       "  <thead>\n",
       "    <tr style=\"text-align: right;\">\n",
       "      <th></th>\n",
       "      <th>name</th>\n",
       "      <th>category_0</th>\n",
       "      <th>category_1</th>\n",
       "      <th>take_out</th>\n",
       "      <th>review_count</th>\n",
       "      <th>stars</th>\n",
       "      <th>city_id</th>\n",
       "      <th>state_id</th>\n",
       "      <th>city</th>\n",
       "      <th>state</th>\n",
       "    </tr>\n",
       "  </thead>\n",
       "  <tbody>\n",
       "    <tr>\n",
       "      <th>0</th>\n",
       "      <td>China Sea Chinese Restaurant</td>\n",
       "      <td>Restaurants</td>\n",
       "      <td>Chinese</td>\n",
       "      <td>True</td>\n",
       "      <td>11</td>\n",
       "      <td>2.5</td>\n",
       "      <td>1</td>\n",
       "      <td>1</td>\n",
       "      <td>Bellevue</td>\n",
       "      <td>PA</td>\n",
       "    </tr>\n",
       "    <tr>\n",
       "      <th>1</th>\n",
       "      <td>Discount Tire Center</td>\n",
       "      <td>Tires</td>\n",
       "      <td>Automotive</td>\n",
       "      <td>False</td>\n",
       "      <td>24</td>\n",
       "      <td>4.5</td>\n",
       "      <td>1</td>\n",
       "      <td>1</td>\n",
       "      <td>Bellevue</td>\n",
       "      <td>PA</td>\n",
       "    </tr>\n",
       "    <tr>\n",
       "      <th>2</th>\n",
       "      <td>Frankfurters</td>\n",
       "      <td>Restaurants</td>\n",
       "      <td>Hot Dogs</td>\n",
       "      <td>True</td>\n",
       "      <td>3</td>\n",
       "      <td>4.5</td>\n",
       "      <td>1</td>\n",
       "      <td>1</td>\n",
       "      <td>Bellevue</td>\n",
       "      <td>PA</td>\n",
       "    </tr>\n",
       "    <tr>\n",
       "      <th>3</th>\n",
       "      <td>Fred Dietz Floral</td>\n",
       "      <td>Shopping</td>\n",
       "      <td>Flowers &amp; Gifts</td>\n",
       "      <td>False</td>\n",
       "      <td>6</td>\n",
       "      <td>4.0</td>\n",
       "      <td>1</td>\n",
       "      <td>1</td>\n",
       "      <td>Bellevue</td>\n",
       "      <td>PA</td>\n",
       "    </tr>\n",
       "    <tr>\n",
       "      <th>4</th>\n",
       "      <td>Kuhn's Market</td>\n",
       "      <td>Food</td>\n",
       "      <td>Grocery</td>\n",
       "      <td>False</td>\n",
       "      <td>8</td>\n",
       "      <td>3.5</td>\n",
       "      <td>1</td>\n",
       "      <td>1</td>\n",
       "      <td>Bellevue</td>\n",
       "      <td>PA</td>\n",
       "    </tr>\n",
       "  </tbody>\n",
       "</table>\n",
       "</div>"
      ],
      "text/plain": [
       "                           name   category_0       category_1  take_out  \\\n",
       "0  China Sea Chinese Restaurant  Restaurants          Chinese      True   \n",
       "1          Discount Tire Center        Tires       Automotive     False   \n",
       "2                  Frankfurters  Restaurants         Hot Dogs      True   \n",
       "3             Fred Dietz Floral     Shopping  Flowers & Gifts     False   \n",
       "4                 Kuhn's Market         Food          Grocery     False   \n",
       "\n",
       "   review_count  stars  city_id  state_id      city state  \n",
       "0            11    2.5        1         1  Bellevue    PA  \n",
       "1            24    4.5        1         1  Bellevue    PA  \n",
       "2             3    4.5        1         1  Bellevue    PA  \n",
       "3             6    4.0        1         1  Bellevue    PA  \n",
       "4             8    3.5        1         1  Bellevue    PA  "
      ]
     },
     "execution_count": 82,
     "metadata": {},
     "output_type": "execute_result"
    }
   ],
   "source": [
    "df.head()"
   ]
  },
  {
   "cell_type": "code",
   "execution_count": 83,
   "id": "1791ae82-1481-4b7b-b69c-7e46b0f8f751",
   "metadata": {},
   "outputs": [],
   "source": [
    "df[\"rating\"] = (df[\"stars\"]/5.0)*10"
   ]
  },
  {
   "cell_type": "code",
   "execution_count": 84,
   "id": "0ed5a505-a06b-4f54-b225-fcd4bc481009",
   "metadata": {},
   "outputs": [
    {
     "data": {
      "text/html": [
       "<div>\n",
       "<style scoped>\n",
       "    .dataframe tbody tr th:only-of-type {\n",
       "        vertical-align: middle;\n",
       "    }\n",
       "\n",
       "    .dataframe tbody tr th {\n",
       "        vertical-align: top;\n",
       "    }\n",
       "\n",
       "    .dataframe thead th {\n",
       "        text-align: right;\n",
       "    }\n",
       "</style>\n",
       "<table border=\"1\" class=\"dataframe\">\n",
       "  <thead>\n",
       "    <tr style=\"text-align: right;\">\n",
       "      <th></th>\n",
       "      <th>name</th>\n",
       "      <th>category_0</th>\n",
       "      <th>category_1</th>\n",
       "      <th>take_out</th>\n",
       "      <th>review_count</th>\n",
       "      <th>stars</th>\n",
       "      <th>city_id</th>\n",
       "      <th>state_id</th>\n",
       "      <th>city</th>\n",
       "      <th>state</th>\n",
       "      <th>rating</th>\n",
       "    </tr>\n",
       "  </thead>\n",
       "  <tbody>\n",
       "    <tr>\n",
       "      <th>0</th>\n",
       "      <td>China Sea Chinese Restaurant</td>\n",
       "      <td>Restaurants</td>\n",
       "      <td>Chinese</td>\n",
       "      <td>True</td>\n",
       "      <td>11</td>\n",
       "      <td>2.5</td>\n",
       "      <td>1</td>\n",
       "      <td>1</td>\n",
       "      <td>Bellevue</td>\n",
       "      <td>PA</td>\n",
       "      <td>5.0</td>\n",
       "    </tr>\n",
       "    <tr>\n",
       "      <th>1</th>\n",
       "      <td>Discount Tire Center</td>\n",
       "      <td>Tires</td>\n",
       "      <td>Automotive</td>\n",
       "      <td>False</td>\n",
       "      <td>24</td>\n",
       "      <td>4.5</td>\n",
       "      <td>1</td>\n",
       "      <td>1</td>\n",
       "      <td>Bellevue</td>\n",
       "      <td>PA</td>\n",
       "      <td>9.0</td>\n",
       "    </tr>\n",
       "    <tr>\n",
       "      <th>2</th>\n",
       "      <td>Frankfurters</td>\n",
       "      <td>Restaurants</td>\n",
       "      <td>Hot Dogs</td>\n",
       "      <td>True</td>\n",
       "      <td>3</td>\n",
       "      <td>4.5</td>\n",
       "      <td>1</td>\n",
       "      <td>1</td>\n",
       "      <td>Bellevue</td>\n",
       "      <td>PA</td>\n",
       "      <td>9.0</td>\n",
       "    </tr>\n",
       "    <tr>\n",
       "      <th>3</th>\n",
       "      <td>Fred Dietz Floral</td>\n",
       "      <td>Shopping</td>\n",
       "      <td>Flowers &amp; Gifts</td>\n",
       "      <td>False</td>\n",
       "      <td>6</td>\n",
       "      <td>4.0</td>\n",
       "      <td>1</td>\n",
       "      <td>1</td>\n",
       "      <td>Bellevue</td>\n",
       "      <td>PA</td>\n",
       "      <td>8.0</td>\n",
       "    </tr>\n",
       "    <tr>\n",
       "      <th>4</th>\n",
       "      <td>Kuhn's Market</td>\n",
       "      <td>Food</td>\n",
       "      <td>Grocery</td>\n",
       "      <td>False</td>\n",
       "      <td>8</td>\n",
       "      <td>3.5</td>\n",
       "      <td>1</td>\n",
       "      <td>1</td>\n",
       "      <td>Bellevue</td>\n",
       "      <td>PA</td>\n",
       "      <td>7.0</td>\n",
       "    </tr>\n",
       "  </tbody>\n",
       "</table>\n",
       "</div>"
      ],
      "text/plain": [
       "                           name   category_0       category_1  take_out  \\\n",
       "0  China Sea Chinese Restaurant  Restaurants          Chinese      True   \n",
       "1          Discount Tire Center        Tires       Automotive     False   \n",
       "2                  Frankfurters  Restaurants         Hot Dogs      True   \n",
       "3             Fred Dietz Floral     Shopping  Flowers & Gifts     False   \n",
       "4                 Kuhn's Market         Food          Grocery     False   \n",
       "\n",
       "   review_count  stars  city_id  state_id      city state  rating  \n",
       "0            11    2.5        1         1  Bellevue    PA     5.0  \n",
       "1            24    4.5        1         1  Bellevue    PA     9.0  \n",
       "2             3    4.5        1         1  Bellevue    PA     9.0  \n",
       "3             6    4.0        1         1  Bellevue    PA     8.0  \n",
       "4             8    3.5        1         1  Bellevue    PA     7.0  "
      ]
     },
     "execution_count": 84,
     "metadata": {},
     "output_type": "execute_result"
    }
   ],
   "source": [
    "df.head()"
   ]
  },
  {
   "cell_type": "code",
   "execution_count": 87,
   "id": "007808e9-67a6-48dd-9472-1c80859575a0",
   "metadata": {},
   "outputs": [
    {
     "data": {
      "text/plain": [
       "pandas.core.series.Series"
      ]
     },
     "execution_count": 87,
     "metadata": {},
     "output_type": "execute_result"
    }
   ],
   "source": [
    "s = df[\"name\"] == \"Frankfurters\"\n",
    "type(s)"
   ]
  },
  {
   "cell_type": "code",
   "execution_count": 130,
   "id": "2d1ab3ab-ba07-4517-a0a9-0d29ec053f49",
   "metadata": {},
   "outputs": [
    {
     "data": {
      "text/plain": [
       "dict_keys(['NV', 'PA'])"
      ]
     },
     "execution_count": 130,
     "metadata": {},
     "output_type": "execute_result"
    }
   ],
   "source": [
    "df.groupby(['state']).groups.keys()"
   ]
  },
  {
   "cell_type": "code",
   "execution_count": 88,
   "id": "b17111fb-f5df-4675-b72b-60998bab66c2",
   "metadata": {},
   "outputs": [
    {
     "data": {
      "text/plain": [
       "0      False\n",
       "1      False\n",
       "2       True\n",
       "3      False\n",
       "4      False\n",
       "       ...  \n",
       "595    False\n",
       "596    False\n",
       "597    False\n",
       "598    False\n",
       "599    False\n",
       "Name: name, Length: 600, dtype: bool"
      ]
     },
     "execution_count": 88,
     "metadata": {},
     "output_type": "execute_result"
    }
   ],
   "source": [
    "s"
   ]
  },
  {
   "cell_type": "code",
   "execution_count": 98,
   "id": "eab584cd-9897-4dd8-b23e-b663843fad69",
   "metadata": {},
   "outputs": [
    {
     "data": {
      "text/plain": [
       "Index([430, 431, 432, 433, 434, 435, 436, 437, 438, 439,\n",
       "       ...\n",
       "       553, 554, 555, 556, 557, 558, 559, 560, 561, 562],\n",
       "      dtype='int64', length=133)"
      ]
     },
     "execution_count": 98,
     "metadata": {},
     "output_type": "execute_result"
    }
   ],
   "source": [
    "df.groupby(['city']).groups['Las Vegas']"
   ]
  },
  {
   "cell_type": "code",
   "execution_count": 94,
   "id": "e4a100da-5f68-41a1-a620-f951c5b92af6",
   "metadata": {},
   "outputs": [
    {
     "data": {
      "text/plain": [
       "array(['Bellevue', 'Braddock', 'Carnegie', 'Homestead', 'Mc Kees Rocks',\n",
       "       'Mount Lebanon', 'Munhall', 'Pittsburgh', 'West Homestead',\n",
       "       'West Mifflin', 'Henderson', 'Las Vegas', 'North Las Vegas'],\n",
       "      dtype=object)"
      ]
     },
     "execution_count": 94,
     "metadata": {},
     "output_type": "execute_result"
    }
   ],
   "source": [
    "df['city'].unique()"
   ]
  },
  {
   "cell_type": "code",
   "execution_count": 117,
   "id": "5483ba64-393d-469b-9cc6-31c8721fbd52",
   "metadata": {},
   "outputs": [
    {
     "name": "stderr",
     "output_type": "stream",
     "text": [
      "C:\\Users\\Abdulqaadir\\AppData\\Local\\Temp\\ipykernel_35416\\667490345.py:2: FutureWarning: The provided callable <function sum at 0x000001F7153C72E0> is currently using SeriesGroupBy.sum. In a future version of pandas, the provided callable will be used directly. To keep current behavior pass the string \"sum\" instead.\n",
      "  df.filter(['city', 'stars']).groupby([\"city\"]).agg([np.sum, np.mean, np.std])[\"stars\"]\n",
      "C:\\Users\\Abdulqaadir\\AppData\\Local\\Temp\\ipykernel_35416\\667490345.py:2: FutureWarning: The provided callable <function mean at 0x000001F7153D0400> is currently using SeriesGroupBy.mean. In a future version of pandas, the provided callable will be used directly. To keep current behavior pass the string \"mean\" instead.\n",
      "  df.filter(['city', 'stars']).groupby([\"city\"]).agg([np.sum, np.mean, np.std])[\"stars\"]\n",
      "C:\\Users\\Abdulqaadir\\AppData\\Local\\Temp\\ipykernel_35416\\667490345.py:2: FutureWarning: The provided callable <function std at 0x000001F7153D0540> is currently using SeriesGroupBy.std. In a future version of pandas, the provided callable will be used directly. To keep current behavior pass the string \"std\" instead.\n",
      "  df.filter(['city', 'stars']).groupby([\"city\"]).agg([np.sum, np.mean, np.std])[\"stars\"]\n"
     ]
    },
    {
     "data": {
      "text/html": [
       "<div>\n",
       "<style scoped>\n",
       "    .dataframe tbody tr th:only-of-type {\n",
       "        vertical-align: middle;\n",
       "    }\n",
       "\n",
       "    .dataframe tbody tr th {\n",
       "        vertical-align: top;\n",
       "    }\n",
       "\n",
       "    .dataframe thead th {\n",
       "        text-align: right;\n",
       "    }\n",
       "</style>\n",
       "<table border=\"1\" class=\"dataframe\">\n",
       "  <thead>\n",
       "    <tr style=\"text-align: right;\">\n",
       "      <th></th>\n",
       "      <th>sum</th>\n",
       "      <th>mean</th>\n",
       "      <th>std</th>\n",
       "    </tr>\n",
       "    <tr>\n",
       "      <th>city</th>\n",
       "      <th></th>\n",
       "      <th></th>\n",
       "      <th></th>\n",
       "    </tr>\n",
       "  </thead>\n",
       "  <tbody>\n",
       "    <tr>\n",
       "      <th>Bellevue</th>\n",
       "      <td>45.0</td>\n",
       "      <td>3.750000</td>\n",
       "      <td>0.783349</td>\n",
       "    </tr>\n",
       "    <tr>\n",
       "      <th>Braddock</th>\n",
       "      <td>9.5</td>\n",
       "      <td>4.750000</td>\n",
       "      <td>0.353553</td>\n",
       "    </tr>\n",
       "    <tr>\n",
       "      <th>Carnegie</th>\n",
       "      <td>76.0</td>\n",
       "      <td>3.454545</td>\n",
       "      <td>0.688495</td>\n",
       "    </tr>\n",
       "    <tr>\n",
       "      <th>Henderson</th>\n",
       "      <td>444.5</td>\n",
       "      <td>3.419231</td>\n",
       "      <td>0.906060</td>\n",
       "    </tr>\n",
       "    <tr>\n",
       "      <th>Homestead</th>\n",
       "      <td>134.5</td>\n",
       "      <td>3.280488</td>\n",
       "      <td>0.837024</td>\n",
       "    </tr>\n",
       "    <tr>\n",
       "      <th>Las Vegas</th>\n",
       "      <td>452.0</td>\n",
       "      <td>3.398496</td>\n",
       "      <td>1.042214</td>\n",
       "    </tr>\n",
       "    <tr>\n",
       "      <th>Mc Kees Rocks</th>\n",
       "      <td>37.0</td>\n",
       "      <td>3.700000</td>\n",
       "      <td>0.856349</td>\n",
       "    </tr>\n",
       "    <tr>\n",
       "      <th>Mount Lebanon</th>\n",
       "      <td>12.5</td>\n",
       "      <td>3.125000</td>\n",
       "      <td>1.108678</td>\n",
       "    </tr>\n",
       "    <tr>\n",
       "      <th>Munhall</th>\n",
       "      <td>12.0</td>\n",
       "      <td>3.000000</td>\n",
       "      <td>0.816497</td>\n",
       "    </tr>\n",
       "    <tr>\n",
       "      <th>North Las Vegas</th>\n",
       "      <td>112.0</td>\n",
       "      <td>3.027027</td>\n",
       "      <td>1.073325</td>\n",
       "    </tr>\n",
       "    <tr>\n",
       "      <th>Pittsburgh</th>\n",
       "      <td>718.0</td>\n",
       "      <td>3.720207</td>\n",
       "      <td>0.902517</td>\n",
       "    </tr>\n",
       "    <tr>\n",
       "      <th>West Homestead</th>\n",
       "      <td>10.0</td>\n",
       "      <td>3.333333</td>\n",
       "      <td>1.040833</td>\n",
       "    </tr>\n",
       "    <tr>\n",
       "      <th>West Mifflin</th>\n",
       "      <td>34.0</td>\n",
       "      <td>3.777778</td>\n",
       "      <td>1.227577</td>\n",
       "    </tr>\n",
       "  </tbody>\n",
       "</table>\n",
       "</div>"
      ],
      "text/plain": [
       "                   sum      mean       std\n",
       "city                                      \n",
       "Bellevue          45.0  3.750000  0.783349\n",
       "Braddock           9.5  4.750000  0.353553\n",
       "Carnegie          76.0  3.454545  0.688495\n",
       "Henderson        444.5  3.419231  0.906060\n",
       "Homestead        134.5  3.280488  0.837024\n",
       "Las Vegas        452.0  3.398496  1.042214\n",
       "Mc Kees Rocks     37.0  3.700000  0.856349\n",
       "Mount Lebanon     12.5  3.125000  1.108678\n",
       "Munhall           12.0  3.000000  0.816497\n",
       "North Las Vegas  112.0  3.027027  1.073325\n",
       "Pittsburgh       718.0  3.720207  0.902517\n",
       "West Homestead    10.0  3.333333  1.040833\n",
       "West Mifflin      34.0  3.777778  1.227577"
      ]
     },
     "execution_count": 117,
     "metadata": {},
     "output_type": "execute_result"
    }
   ],
   "source": [
    "import numpy as np\n",
    "df.filter(['city', 'stars']).groupby([\"city\"]).agg([np.sum, np.mean, np.std])[\"stars\"]"
   ]
  },
  {
   "cell_type": "code",
   "execution_count": 111,
   "id": "7e859cf0-2c97-4f0e-8ffd-345d23c4ddac",
   "metadata": {},
   "outputs": [],
   "source": [
    "cat_0 = df['category_0'].isin(['Bars', 'Restaurants'])\n",
    "df_cat_0 = df[cat_0]"
   ]
  },
  {
   "cell_type": "code",
   "execution_count": 118,
   "id": "59dc96bf-3f66-49a6-bdcf-41ec7d8d1f5c",
   "metadata": {},
   "outputs": [],
   "source": [
    "df_try_filter = df_cat_0.filter(['state', 'city', 'category_0', 'review_count', 'rating'])"
   ]
  },
  {
   "cell_type": "code",
   "execution_count": 120,
   "id": "5f3a77ad-b18e-4ab2-8431-840adbfe9e15",
   "metadata": {},
   "outputs": [],
   "source": [
    "new_filter_df = pd.pivot_table(df_try_filter, index = ['state', 'city', 'category_0'])[['review_count', 'rating']]"
   ]
  },
  {
   "cell_type": "code",
   "execution_count": 121,
   "id": "775463c0-ef78-4496-a1a3-b4f54d217447",
   "metadata": {},
   "outputs": [
    {
     "data": {
      "text/html": [
       "<div>\n",
       "<style scoped>\n",
       "    .dataframe tbody tr th:only-of-type {\n",
       "        vertical-align: middle;\n",
       "    }\n",
       "\n",
       "    .dataframe tbody tr th {\n",
       "        vertical-align: top;\n",
       "    }\n",
       "\n",
       "    .dataframe thead th {\n",
       "        text-align: right;\n",
       "    }\n",
       "</style>\n",
       "<table border=\"1\" class=\"dataframe\">\n",
       "  <thead>\n",
       "    <tr style=\"text-align: right;\">\n",
       "      <th></th>\n",
       "      <th></th>\n",
       "      <th></th>\n",
       "      <th>review_count</th>\n",
       "      <th>rating</th>\n",
       "    </tr>\n",
       "    <tr>\n",
       "      <th>state</th>\n",
       "      <th>city</th>\n",
       "      <th>category_0</th>\n",
       "      <th></th>\n",
       "      <th></th>\n",
       "    </tr>\n",
       "  </thead>\n",
       "  <tbody>\n",
       "    <tr>\n",
       "      <th rowspan=\"6\" valign=\"top\">NV</th>\n",
       "      <th rowspan=\"2\" valign=\"top\">Henderson</th>\n",
       "      <th>Bars</th>\n",
       "      <td>171.000000</td>\n",
       "      <td>6.000000</td>\n",
       "    </tr>\n",
       "    <tr>\n",
       "      <th>Restaurants</th>\n",
       "      <td>102.454545</td>\n",
       "      <td>6.363636</td>\n",
       "    </tr>\n",
       "    <tr>\n",
       "      <th rowspan=\"2\" valign=\"top\">Las Vegas</th>\n",
       "      <th>Bars</th>\n",
       "      <td>15.500000</td>\n",
       "      <td>8.000000</td>\n",
       "    </tr>\n",
       "    <tr>\n",
       "      <th>Restaurants</th>\n",
       "      <td>221.153846</td>\n",
       "      <td>6.307692</td>\n",
       "    </tr>\n",
       "    <tr>\n",
       "      <th rowspan=\"2\" valign=\"top\">North Las Vegas</th>\n",
       "      <th>Bars</th>\n",
       "      <td>7.000000</td>\n",
       "      <td>7.000000</td>\n",
       "    </tr>\n",
       "    <tr>\n",
       "      <th>Restaurants</th>\n",
       "      <td>12.000000</td>\n",
       "      <td>6.000000</td>\n",
       "    </tr>\n",
       "    <tr>\n",
       "      <th rowspan=\"13\" valign=\"top\">PA</th>\n",
       "      <th>Bellevue</th>\n",
       "      <th>Restaurants</th>\n",
       "      <td>14.000000</td>\n",
       "      <td>7.833333</td>\n",
       "    </tr>\n",
       "    <tr>\n",
       "      <th>Braddock</th>\n",
       "      <th>Bars</th>\n",
       "      <td>26.000000</td>\n",
       "      <td>9.000000</td>\n",
       "    </tr>\n",
       "    <tr>\n",
       "      <th rowspan=\"2\" valign=\"top\">Carnegie</th>\n",
       "      <th>Bars</th>\n",
       "      <td>16.500000</td>\n",
       "      <td>8.000000</td>\n",
       "    </tr>\n",
       "    <tr>\n",
       "      <th>Restaurants</th>\n",
       "      <td>26.000000</td>\n",
       "      <td>6.250000</td>\n",
       "    </tr>\n",
       "    <tr>\n",
       "      <th rowspan=\"2\" valign=\"top\">Homestead</th>\n",
       "      <th>Bars</th>\n",
       "      <td>23.000000</td>\n",
       "      <td>5.000000</td>\n",
       "    </tr>\n",
       "    <tr>\n",
       "      <th>Restaurants</th>\n",
       "      <td>6.000000</td>\n",
       "      <td>5.000000</td>\n",
       "    </tr>\n",
       "    <tr>\n",
       "      <th rowspan=\"2\" valign=\"top\">Mc Kees Rocks</th>\n",
       "      <th>Bars</th>\n",
       "      <td>9.000000</td>\n",
       "      <td>7.000000</td>\n",
       "    </tr>\n",
       "    <tr>\n",
       "      <th>Restaurants</th>\n",
       "      <td>7.333333</td>\n",
       "      <td>6.666667</td>\n",
       "    </tr>\n",
       "    <tr>\n",
       "      <th>Munhall</th>\n",
       "      <th>Restaurants</th>\n",
       "      <td>9.500000</td>\n",
       "      <td>7.000000</td>\n",
       "    </tr>\n",
       "    <tr>\n",
       "      <th rowspan=\"2\" valign=\"top\">Pittsburgh</th>\n",
       "      <th>Bars</th>\n",
       "      <td>20.000000</td>\n",
       "      <td>6.833333</td>\n",
       "    </tr>\n",
       "    <tr>\n",
       "      <th>Restaurants</th>\n",
       "      <td>67.000000</td>\n",
       "      <td>6.407407</td>\n",
       "    </tr>\n",
       "    <tr>\n",
       "      <th>West Homestead</th>\n",
       "      <th>Bars</th>\n",
       "      <td>92.000000</td>\n",
       "      <td>5.000000</td>\n",
       "    </tr>\n",
       "    <tr>\n",
       "      <th>West Mifflin</th>\n",
       "      <th>Restaurants</th>\n",
       "      <td>5.000000</td>\n",
       "      <td>8.666667</td>\n",
       "    </tr>\n",
       "  </tbody>\n",
       "</table>\n",
       "</div>"
      ],
      "text/plain": [
       "                                   review_count    rating\n",
       "state city            category_0                         \n",
       "NV    Henderson       Bars           171.000000  6.000000\n",
       "                      Restaurants    102.454545  6.363636\n",
       "      Las Vegas       Bars            15.500000  8.000000\n",
       "                      Restaurants    221.153846  6.307692\n",
       "      North Las Vegas Bars             7.000000  7.000000\n",
       "                      Restaurants     12.000000  6.000000\n",
       "PA    Bellevue        Restaurants     14.000000  7.833333\n",
       "      Braddock        Bars            26.000000  9.000000\n",
       "      Carnegie        Bars            16.500000  8.000000\n",
       "                      Restaurants     26.000000  6.250000\n",
       "      Homestead       Bars            23.000000  5.000000\n",
       "                      Restaurants      6.000000  5.000000\n",
       "      Mc Kees Rocks   Bars             9.000000  7.000000\n",
       "                      Restaurants      7.333333  6.666667\n",
       "      Munhall         Restaurants      9.500000  7.000000\n",
       "      Pittsburgh      Bars            20.000000  6.833333\n",
       "                      Restaurants     67.000000  6.407407\n",
       "      West Homestead  Bars            92.000000  5.000000\n",
       "      West Mifflin    Restaurants      5.000000  8.666667"
      ]
     },
     "execution_count": 121,
     "metadata": {},
     "output_type": "execute_result"
    }
   ],
   "source": [
    "new_filter_df"
   ]
  },
  {
   "cell_type": "code",
   "execution_count": 143,
   "id": "bbb6f4d3-b141-4ba6-8967-0b9024b58f64",
   "metadata": {},
   "outputs": [
    {
     "name": "stderr",
     "output_type": "stream",
     "text": [
      "C:\\Users\\Abdulqaadir\\AppData\\Local\\Temp\\ipykernel_35416\\3099346794.py:2: FutureWarning: The provided callable <function sum at 0x000001F7153C72E0> is currently using SeriesGroupBy.sum. In a future version of pandas, the provided callable will be used directly. To keep current behavior pass the string \"sum\" instead.\n",
      "  pd.pivot_table(df_filter_0, index = ['state', 'city'], aggfunc = {'review_count': np.sum, 'stars':np.mean}, columns= ['take_out']).columns\n",
      "C:\\Users\\Abdulqaadir\\AppData\\Local\\Temp\\ipykernel_35416\\3099346794.py:2: FutureWarning: The provided callable <function mean at 0x000001F7153D0400> is currently using SeriesGroupBy.mean. In a future version of pandas, the provided callable will be used directly. To keep current behavior pass the string \"mean\" instead.\n",
      "  pd.pivot_table(df_filter_0, index = ['state', 'city'], aggfunc = {'review_count': np.sum, 'stars':np.mean}, columns= ['take_out']).columns\n"
     ]
    },
    {
     "data": {
      "text/plain": [
       "MultiIndex([('review_count', False),\n",
       "            ('review_count',  True),\n",
       "            (       'stars', False),\n",
       "            (       'stars',  True)],\n",
       "           names=[None, 'take_out'])"
      ]
     },
     "execution_count": 143,
     "metadata": {},
     "output_type": "execute_result"
    }
   ],
   "source": [
    "df_filter_0 = df.filter(['state', 'city', 'review_count', 'stars', 'take_out'])\n",
    "pd.pivot_table(df_filter_0, index = ['state', 'city'], aggfunc = {'review_count': np.sum, 'stars':np.mean}, columns= ['take_out']).columns"
   ]
  },
  {
   "cell_type": "code",
   "execution_count": 145,
   "id": "6156ba8d-5234-4568-a7ea-e6767962b44d",
   "metadata": {},
   "outputs": [
    {
     "data": {
      "text/plain": [
       "array(['Bellevue', 'Braddock', 'Carnegie', 'Homestead', 'Mc Kees Rocks',\n",
       "       'Mount Lebanon', 'Munhall', 'Pittsburgh', 'West Homestead',\n",
       "       'West Mifflin', 'Henderson', 'Las Vegas', 'North Las Vegas'],\n",
       "      dtype=object)"
      ]
     },
     "execution_count": 145,
     "metadata": {},
     "output_type": "execute_result"
    }
   ],
   "source": [
    "df.city.unique()"
   ]
  },
  {
   "cell_type": "code",
   "execution_count": 149,
   "id": "5b5158da-6299-4e45-b6ce-6231e02dafa0",
   "metadata": {},
   "outputs": [],
   "source": [
    "import matplotlib.pyplot as plt\n",
    "df_vegas = df[df['city'] == 'Las Vegas']['stars']\n",
    "df_pitt= df[df['city'] == 'Pittsburgh']['stars']"
   ]
  },
  {
   "cell_type": "code",
   "execution_count": 152,
   "id": "ab368912-152f-4b26-88fe-c9d84f986079",
   "metadata": {},
   "outputs": [
    {
     "data": {
      "image/png": "[encoded data removed]",
      "text/plain": [
       "<Figure size 640x480 with 1 Axes>"
      ]
     },
     "metadata": {},
     "output_type": "display_data"
    }
   ],
   "source": [
    "plt.hist(\n",
    "    df_vegas,\n",
    "    alpha = 0.3,\n",
    "    color = 'yellow',\n",
    "    label = 'Las Vegas',\n",
    "    bins = 'auto'\n",
    ")\n",
    "\n",
    "plt.hist(\n",
    "    df_pitt,\n",
    "    alpha = 0.3,\n",
    "    color = 'blue',\n",
    "    label = 'Pittsburgh',\n",
    "    bins = 'auto'\n",
    ")\n",
    "\n",
    "plt.legend(loc = 'best')\n",
    "plt.xlabel('Stars Ratings')\n",
    "plt.ylabel('Frequency of number of stars')\n",
    "plt.title('Distribution ofstar ratings in Las Vegas and Pittsburg')\n",
    "\n",
    "plt.show()"
   ]
  },
  {
   "cell_type": "code",
   "execution_count": 156,
   "id": "38ef0a43-b9ef-4c10-8329-ee0dc228fbfd",
   "metadata": {},
   "outputs": [
    {
     "data": {
      "image/png": "[encoded data removed]",
      "text/plain": [
       "<Figure size 640x480 with 1 Axes>"
      ]
     },
     "metadata": {},
     "output_type": "display_data"
    }
   ],
   "source": [
    "plt.hist(\n",
    "    [df_vegas, df_pitt],\n",
    "    label = ['Vegas', 'Pittsburgh'],\n",
    "    color = ['red', 'blue'],\n",
    "    alpha = 0.5,\n",
    "    bins = 'auto'\n",
    ")\n",
    "\n",
    "plt.legend(loc = 'best')\n",
    "plt.title('Distribution of Star Ratings in Las Vegas and Pittsburgh')\n",
    "plt.xlabel('Stars')\n",
    "plt.ylabel('Frequency or Distribution of Stars')\n",
    "\n",
    "plt.show()"
   ]
  },
  {
   "cell_type": "code",
   "execution_count": 158,
   "id": "8e2e06dc-be01-457a-a981-6d366e619fd3",
   "metadata": {},
   "outputs": [],
   "source": [
    "#Health & Medical\n",
    "#Fast food\n",
    "#Breakfast & Brunch\n",
    "df_health = df[df['category_0'] == 'Health & Medical']\n",
    "df_fast = df[df['category_0'] == 'Fast Food']\n",
    "df_break = df[df['category_0'] == 'Breakfast & Brunch']"
   ]
  },
  {
   "cell_type": "code",
   "execution_count": 161,
   "id": "a025314f-9e01-4f34-a41b-de25bd242192",
   "metadata": {},
   "outputs": [
    {
     "data": {
      "text/html": [
       "<div>\n",
       "<style scoped>\n",
       "    .dataframe tbody tr th:only-of-type {\n",
       "        vertical-align: middle;\n",
       "    }\n",
       "\n",
       "    .dataframe tbody tr th {\n",
       "        vertical-align: top;\n",
       "    }\n",
       "\n",
       "    .dataframe thead th {\n",
       "        text-align: right;\n",
       "    }\n",
       "</style>\n",
       "<table border=\"1\" class=\"dataframe\">\n",
       "  <thead>\n",
       "    <tr style=\"text-align: right;\">\n",
       "      <th></th>\n",
       "      <th>name</th>\n",
       "      <th>category_0</th>\n",
       "      <th>category_1</th>\n",
       "      <th>take_out</th>\n",
       "      <th>review_count</th>\n",
       "      <th>stars</th>\n",
       "      <th>city_id</th>\n",
       "      <th>state_id</th>\n",
       "      <th>city</th>\n",
       "      <th>state</th>\n",
       "      <th>rating</th>\n",
       "    </tr>\n",
       "  </thead>\n",
       "  <tbody>\n",
       "    <tr>\n",
       "      <th>24</th>\n",
       "      <td>Gab &amp; Eat</td>\n",
       "      <td>Breakfast &amp; Brunch</td>\n",
       "      <td>Sandwiches</td>\n",
       "      <td>True</td>\n",
       "      <td>69</td>\n",
       "      <td>4.5</td>\n",
       "      <td>3</td>\n",
       "      <td>1</td>\n",
       "      <td>Carnegie</td>\n",
       "      <td>PA</td>\n",
       "      <td>9.0</td>\n",
       "    </tr>\n",
       "    <tr>\n",
       "      <th>131</th>\n",
       "      <td>Crepes Parisiennes</td>\n",
       "      <td>Breakfast &amp; Brunch</td>\n",
       "      <td>Creperies</td>\n",
       "      <td>True</td>\n",
       "      <td>73</td>\n",
       "      <td>4.0</td>\n",
       "      <td>8</td>\n",
       "      <td>1</td>\n",
       "      <td>Pittsburgh</td>\n",
       "      <td>PA</td>\n",
       "      <td>8.0</td>\n",
       "    </tr>\n",
       "    <tr>\n",
       "      <th>240</th>\n",
       "      <td>Ritters Diner</td>\n",
       "      <td>Breakfast &amp; Brunch</td>\n",
       "      <td>American (Traditional)</td>\n",
       "      <td>True</td>\n",
       "      <td>146</td>\n",
       "      <td>3.5</td>\n",
       "      <td>8</td>\n",
       "      <td>1</td>\n",
       "      <td>Pittsburgh</td>\n",
       "      <td>PA</td>\n",
       "      <td>7.0</td>\n",
       "    </tr>\n",
       "    <tr>\n",
       "      <th>266</th>\n",
       "      <td>The Bloomfield Sandwich Shop</td>\n",
       "      <td>Breakfast &amp; Brunch</td>\n",
       "      <td>Sandwiches</td>\n",
       "      <td>True</td>\n",
       "      <td>41</td>\n",
       "      <td>4.0</td>\n",
       "      <td>8</td>\n",
       "      <td>1</td>\n",
       "      <td>Pittsburgh</td>\n",
       "      <td>PA</td>\n",
       "      <td>8.0</td>\n",
       "    </tr>\n",
       "    <tr>\n",
       "      <th>268</th>\n",
       "      <td>The Dor-Stop Restaurant</td>\n",
       "      <td>Breakfast &amp; Brunch</td>\n",
       "      <td>Diners</td>\n",
       "      <td>True</td>\n",
       "      <td>275</td>\n",
       "      <td>4.5</td>\n",
       "      <td>8</td>\n",
       "      <td>1</td>\n",
       "      <td>Pittsburgh</td>\n",
       "      <td>PA</td>\n",
       "      <td>9.0</td>\n",
       "    </tr>\n",
       "  </tbody>\n",
       "</table>\n",
       "</div>"
      ],
      "text/plain": [
       "                             name          category_0              category_1  \\\n",
       "24                      Gab & Eat  Breakfast & Brunch              Sandwiches   \n",
       "131            Crepes Parisiennes  Breakfast & Brunch               Creperies   \n",
       "240                 Ritters Diner  Breakfast & Brunch  American (Traditional)   \n",
       "266  The Bloomfield Sandwich Shop  Breakfast & Brunch              Sandwiches   \n",
       "268       The Dor-Stop Restaurant  Breakfast & Brunch                  Diners   \n",
       "\n",
       "     take_out  review_count  stars  city_id  state_id        city state  \\\n",
       "24       True            69    4.5        3         1    Carnegie    PA   \n",
       "131      True            73    4.0        8         1  Pittsburgh    PA   \n",
       "240      True           146    3.5        8         1  Pittsburgh    PA   \n",
       "266      True            41    4.0        8         1  Pittsburgh    PA   \n",
       "268      True           275    4.5        8         1  Pittsburgh    PA   \n",
       "\n",
       "     rating  \n",
       "24      9.0  \n",
       "131     8.0  \n",
       "240     7.0  \n",
       "266     8.0  \n",
       "268     9.0  "
      ]
     },
     "execution_count": 161,
     "metadata": {},
     "output_type": "execute_result"
    }
   ],
   "source": [
    "df_break.head()"
   ]
  },
  {
   "cell_type": "code",
   "execution_count": 193,
   "id": "0d0bf716-85de-4c9a-9d89-556cbdca09ea",
   "metadata": {},
   "outputs": [
    {
     "name": "stdout",
     "output_type": "stream",
     "text": [
      "%pylab is deprecated, use %matplotlib inline and import the required libraries.\n",
      "Populating the interactive namespace from numpy and matplotlib\n"
     ]
    },
    {
     "name": "stderr",
     "output_type": "stream",
     "text": [
      "C:\\Users\\Abdulqaadir\\anaconda3\\Lib\\site-packages\\IPython\\core\\magics\\pylab.py:162: UserWarning: pylab import has clobbered these variables: ['random', 'axes']\n",
      "`%matplotlib` prevents importing * from pylab and numpy\n",
      "  warn(\"pylab import has clobbered these variables: %s\"  % clobbered +\n"
     ]
    }
   ],
   "source": [
    "%pylab inline"
   ]
  },
  {
   "cell_type": "code",
   "execution_count": 166,
   "id": "f6465442-97bd-481c-a8ea-9e5c65778e75",
   "metadata": {},
   "outputs": [
    {
     "data": {
      "image/png": "[encoded data removed]",
      "text/plain": [
       "<Figure size 640x480 with 1 Axes>"
      ]
     },
     "metadata": {},
     "output_type": "display_data"
    }
   ],
   "source": [
    "plt.scatter(\n",
    "    df_health['rating'], df_health['review_count'],\n",
    "    marker = 'o',\n",
    "    color = 'r',\n",
    "    alpha = 0.5,\n",
    "    s = 124,\n",
    "    label = 'Health'\n",
    ")\n",
    "\n",
    "plt.scatter(\n",
    "    df_fast['rating'], df_fast['review_count'],\n",
    "    marker = 'h',\n",
    "    color = 'b',\n",
    "    alpha = 0.5,\n",
    "    s = 124,\n",
    "    label = 'Fast Food'\n",
    ")\n",
    "\n",
    "plt.scatter(\n",
    "    df_break['rating'], df_break['review_count'],\n",
    "    marker = '^',\n",
    "    color = 'y',\n",
    "    alpha = 0.5,\n",
    "    s = 124,\n",
    "    label = 'Breakfast & Brunch'\n",
    ")\n",
    "\n",
    "plt.legend(loc = 'upper left')\n",
    "plt.xlabel = 'Rating'\n",
    "plt.ylabel = 'Review Count'\n",
    "plt.title = \"Scatter Plot of Relationship between 'Review Count' and 'Rating' across 3 Business Categories\"\n",
    "\n",
    "axes = plt.gca()\n",
    "axes.set_yscale('log')\n",
    "\n",
    "plt.show()"
   ]
  },
  {
   "cell_type": "code",
   "execution_count": 189,
   "id": "971c2198-a11a-4c8d-8eb0-0902e0057f98",
   "metadata": {},
   "outputs": [],
   "source": [
    "df_city_value_counts = df['city'].value_counts()"
   ]
  },
  {
   "cell_type": "code",
   "execution_count": 190,
   "id": "26446238-abb3-42e1-b783-f19f23a13581",
   "metadata": {},
   "outputs": [
    {
     "data": {
      "image/png": "[encoded data removed]",
      "text/plain": [
       "<Figure size 1200x900 with 1 Axes>"
      ]
     },
     "metadata": {},
     "output_type": "display_data"
    }
   ],
   "source": [
    "df_city_value_counts.plot(kind='bar', figsize = (12, 9), fontsize = 12, legend = False, title = 'Number of Businesses by City')\n",
    "plt.ylabel = 'Number of Businesses'\n",
    "plt.show()"
   ]
  },
  {
   "cell_type": "code",
   "execution_count": 184,
   "id": "90beb467-2416-4016-af34-f4f6902362fc",
   "metadata": {},
   "outputs": [],
   "source": [
    "df_filter = df.filter(['Restaurants', 'Bars', 'stars', 'category_0'])\n",
    "df_cat_0 = df_filter[df_filter['category_0'].isin(['Restaurants', 'Bars'])]\n",
    "df_bar_rest = pd.pivot_table(df_cat_0, index = ['category_0'])"
   ]
  },
  {
   "cell_type": "code",
   "execution_count": 179,
   "id": "516d16ed-c7c6-4c27-bef0-fda4079f61f3",
   "metadata": {},
   "outputs": [
    {
     "data": {
      "text/html": [
       "<div>\n",
       "<style scoped>\n",
       "    .dataframe tbody tr th:only-of-type {\n",
       "        vertical-align: middle;\n",
       "    }\n",
       "\n",
       "    .dataframe tbody tr th {\n",
       "        vertical-align: top;\n",
       "    }\n",
       "\n",
       "    .dataframe thead th {\n",
       "        text-align: right;\n",
       "    }\n",
       "</style>\n",
       "<table border=\"1\" class=\"dataframe\">\n",
       "  <thead>\n",
       "    <tr style=\"text-align: right;\">\n",
       "      <th></th>\n",
       "      <th>name</th>\n",
       "      <th>category_0</th>\n",
       "      <th>category_1</th>\n",
       "      <th>take_out</th>\n",
       "      <th>review_count</th>\n",
       "      <th>stars</th>\n",
       "      <th>city_id</th>\n",
       "      <th>state_id</th>\n",
       "      <th>city</th>\n",
       "      <th>state</th>\n",
       "      <th>rating</th>\n",
       "    </tr>\n",
       "  </thead>\n",
       "  <tbody>\n",
       "    <tr>\n",
       "      <th>0</th>\n",
       "      <td>China Sea Chinese Restaurant</td>\n",
       "      <td>Restaurants</td>\n",
       "      <td>Chinese</td>\n",
       "      <td>True</td>\n",
       "      <td>11</td>\n",
       "      <td>2.5</td>\n",
       "      <td>1</td>\n",
       "      <td>1</td>\n",
       "      <td>Bellevue</td>\n",
       "      <td>PA</td>\n",
       "      <td>5.0</td>\n",
       "    </tr>\n",
       "    <tr>\n",
       "      <th>1</th>\n",
       "      <td>Discount Tire Center</td>\n",
       "      <td>Tires</td>\n",
       "      <td>Automotive</td>\n",
       "      <td>False</td>\n",
       "      <td>24</td>\n",
       "      <td>4.5</td>\n",
       "      <td>1</td>\n",
       "      <td>1</td>\n",
       "      <td>Bellevue</td>\n",
       "      <td>PA</td>\n",
       "      <td>9.0</td>\n",
       "    </tr>\n",
       "    <tr>\n",
       "      <th>2</th>\n",
       "      <td>Frankfurters</td>\n",
       "      <td>Restaurants</td>\n",
       "      <td>Hot Dogs</td>\n",
       "      <td>True</td>\n",
       "      <td>3</td>\n",
       "      <td>4.5</td>\n",
       "      <td>1</td>\n",
       "      <td>1</td>\n",
       "      <td>Bellevue</td>\n",
       "      <td>PA</td>\n",
       "      <td>9.0</td>\n",
       "    </tr>\n",
       "    <tr>\n",
       "      <th>3</th>\n",
       "      <td>Fred Dietz Floral</td>\n",
       "      <td>Shopping</td>\n",
       "      <td>Flowers &amp; Gifts</td>\n",
       "      <td>False</td>\n",
       "      <td>6</td>\n",
       "      <td>4.0</td>\n",
       "      <td>1</td>\n",
       "      <td>1</td>\n",
       "      <td>Bellevue</td>\n",
       "      <td>PA</td>\n",
       "      <td>8.0</td>\n",
       "    </tr>\n",
       "    <tr>\n",
       "      <th>4</th>\n",
       "      <td>Kuhn's Market</td>\n",
       "      <td>Food</td>\n",
       "      <td>Grocery</td>\n",
       "      <td>False</td>\n",
       "      <td>8</td>\n",
       "      <td>3.5</td>\n",
       "      <td>1</td>\n",
       "      <td>1</td>\n",
       "      <td>Bellevue</td>\n",
       "      <td>PA</td>\n",
       "      <td>7.0</td>\n",
       "    </tr>\n",
       "  </tbody>\n",
       "</table>\n",
       "</div>"
      ],
      "text/plain": [
       "                           name   category_0       category_1  take_out  \\\n",
       "0  China Sea Chinese Restaurant  Restaurants          Chinese      True   \n",
       "1          Discount Tire Center        Tires       Automotive     False   \n",
       "2                  Frankfurters  Restaurants         Hot Dogs      True   \n",
       "3             Fred Dietz Floral     Shopping  Flowers & Gifts     False   \n",
       "4                 Kuhn's Market         Food          Grocery     False   \n",
       "\n",
       "   review_count  stars  city_id  state_id      city state  rating  \n",
       "0            11    2.5        1         1  Bellevue    PA     5.0  \n",
       "1            24    4.5        1         1  Bellevue    PA     9.0  \n",
       "2             3    4.5        1         1  Bellevue    PA     9.0  \n",
       "3             6    4.0        1         1  Bellevue    PA     8.0  \n",
       "4             8    3.5        1         1  Bellevue    PA     7.0  "
      ]
     },
     "execution_count": 179,
     "metadata": {},
     "output_type": "execute_result"
    }
   ],
   "source": [
    "df.head()"
   ]
  },
  {
   "cell_type": "code",
   "execution_count": 186,
   "id": "0692940a-3d5b-407e-8826-7e3563861a43",
   "metadata": {},
   "outputs": [
    {
     "data": {
      "image/png": "[encoded data removed]",
      "text/plain": [
       "<Figure size 1200x900 with 1 Axes>"
      ]
     },
     "metadata": {},
     "output_type": "display_data"
    }
   ],
   "source": [
    "df_bar_rest.plot(kind='bar', figsize = (12, 9), fontsize = 12, legend = False, title = 'Blablabla')\n",
    "plt.ylabel = 'Number of Businesses'\n",
    "plt.show()"
   ]
  },
  {
   "cell_type": "code",
   "execution_count": 194,
   "id": "64393126-9a9a-4e30-a4e3-20e363fe00f5",
   "metadata": {},
   "outputs": [],
   "source": [
    "import pylab as pl"
   ]
  },
  {
   "cell_type": "code",
   "execution_count": 196,
   "id": "f797524d-5c5c-4ebd-b931-44b1e439df27",
   "metadata": {},
   "outputs": [],
   "source": [
    "from sklearn import linear_model"
   ]
  },
  {
   "cell_type": "code",
   "execution_count": 197,
   "id": "65875067-58d3-48af-9f92-717f20898398",
   "metadata": {},
   "outputs": [],
   "source": [
    "reg = linear_model.LinearRegression()"
   ]
  },
  {
   "cell_type": "code",
   "execution_count": null,
   "id": "fe292518-94da-4ddd-a003-7fd7a273c666",
   "metadata": {},
   "outputs": [],
   "source": []
  }
 ],
 "metadata": {
  "kernelspec": {
   "display_name": "Python 3 (ipykernel)",
   "language": "python",
   "name": "python3"
  },
  "language_info": {
   "codemirror_mode": {
    "name": "ipython",
    "version": 3
   },
   "file_extension": ".py",
   "mimetype": "text/x-python",
   "name": "python",
   "nbconvert_exporter": "python",
   "pygments_lexer": "ipython3",
   "version": "3.11.7"
  }
 },
 "nbformat": 4,
 "nbformat_minor": 5
}
